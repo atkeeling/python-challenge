{
 "cells": [
  {
   "cell_type": "code",
   "execution_count": 1,
   "metadata": {},
   "outputs": [],
   "source": [
    "import os\n",
    "import csv"
   ]
  },
  {
   "cell_type": "code",
   "execution_count": 2,
   "metadata": {},
   "outputs": [
    {
     "data": {
      "text/plain": [
       "'budget_data.csv'"
      ]
     },
     "execution_count": 2,
     "metadata": {},
     "output_type": "execute_result"
    }
   ],
   "source": [
    "infile = os.path.join(\"budget_data.csv\")\n",
    "infile"
   ]
  },
  {
   "cell_type": "code",
   "execution_count": 3,
   "metadata": {},
   "outputs": [
    {
     "name": "stdout",
     "output_type": "stream",
     "text": [
      "Number of months = 86\n"
     ]
    }
   ],
   "source": [
    "with open(infile,\"r\") as csv_file:\n",
    "    count_months = sum(1 for line in csv_file) - 1\n",
    "print(f\"Number of months = {count_months}\")"
   ]
  },
  {
   "cell_type": "code",
   "execution_count": 4,
   "metadata": {},
   "outputs": [
    {
     "name": "stdout",
     "output_type": "stream",
     "text": [
      "Net profit = $38,382,578.00\n"
     ]
    }
   ],
   "source": [
    "net_profit = 0\n",
    "\n",
    "with open(infile,\"r\") as csv_file:\n",
    "    reader = csv.reader(csv_file, delimiter=\",\")\n",
    "    next(reader)\n",
    "    for row in reader:\n",
    "        net_profit = net_profit + float(row[1])\n",
    "print(f\"Net profit = ${net_profit:,.2f}\")"
   ]
  },
  {
   "cell_type": "code",
   "execution_count": 5,
   "metadata": {},
   "outputs": [
    {
     "name": "stdout",
     "output_type": "stream",
     "text": [
      "Average profit = $446,309.05\n"
     ]
    }
   ],
   "source": [
    "avg_profit = net_profit/count_months\n",
    "print(f\"Average profit = ${avg_profit:,.2f}\")\n",
    "\n"
   ]
  },
  {
   "cell_type": "code",
   "execution_count": 6,
   "metadata": {
    "scrolled": true
   },
   "outputs": [
    {
     "name": "stdout",
     "output_type": "stream",
     "text": [
      "Max profit = $1,170,593.00 in Feb-2012\n",
      "Max loss = $-1,196,225.00 in Sep-2013\n"
     ]
    }
   ],
   "source": [
    "max_profit = 0\n",
    "maxp_month = \"\"\n",
    "max_loss = 0\n",
    "maxl_month = \"\"\n",
    "\n",
    "with open(infile,\"r\") as csv_file:\n",
    "    reader = csv.reader(csv_file, delimiter=\",\")\n",
    "    next(reader)\n",
    "    for row in reader:\n",
    "        if float(row[1]) > max_profit:\n",
    "            max_profit = float(row[1])\n",
    "            maxp_month = row[0]\n",
    "        if float(row[1]) < max_loss:\n",
    "            max_loss = float(row[1])\n",
    "            maxl_month = row[0]\n",
    "print(f\"Max profit = ${max_profit:,.2f} in {maxp_month}\")\n",
    "print(f\"Max loss = ${max_loss:,.2f} in {maxl_month}\")\n"
   ]
  },
  {
   "cell_type": "code",
   "execution_count": 7,
   "metadata": {},
   "outputs": [],
   "source": [
    "output_path = os.path.join(\"bank_output.txt\")\n",
    "\n",
    "with open(output_path, 'w', newline='') as textfile:\n",
    "    textfile.write(f\"Number of months = {count_months}\\n\")\n",
    "    textfile.write(f\"Net profit = ${net_profit:,.2f}\\n\")\n",
    "    textfile.write(f\"Average profit = ${avg_profit:,.2f}\\n\")    \n",
    "    textfile.write(f\"Max profit = ${max_profit:,.2f} in {maxp_month}\\n\")\n",
    "    textfile.write(f\"Max loss = ${max_loss:,.2f} in {maxl_month}\\n\")\n"
   ]
  }
 ],
 "metadata": {
  "kernelspec": {
   "display_name": "Conda [PythonData]",
   "language": "python",
   "name": "pythondata"
  },
  "language_info": {
   "codemirror_mode": {
    "name": "ipython",
    "version": 3
   },
   "file_extension": ".py",
   "mimetype": "text/x-python",
   "name": "python",
   "nbconvert_exporter": "python",
   "pygments_lexer": "ipython3",
   "version": "3.7.3"
  }
 },
 "nbformat": 4,
 "nbformat_minor": 2
}
