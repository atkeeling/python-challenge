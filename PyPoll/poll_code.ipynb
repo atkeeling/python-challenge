{
 "cells": [
  {
   "cell_type": "code",
   "execution_count": 1,
   "metadata": {},
   "outputs": [],
   "source": [
    "import os\n",
    "import csv"
   ]
  },
  {
   "cell_type": "code",
   "execution_count": 2,
   "metadata": {},
   "outputs": [
    {
     "data": {
      "text/plain": [
       "'election_data.csv'"
      ]
     },
     "execution_count": 2,
     "metadata": {},
     "output_type": "execute_result"
    }
   ],
   "source": [
    "infile = os.path.join(\"election_data.csv\")\n",
    "infile"
   ]
  },
  {
   "cell_type": "code",
   "execution_count": 3,
   "metadata": {},
   "outputs": [
    {
     "name": "stdout",
     "output_type": "stream",
     "text": [
      "Total votes = 3521001\n"
     ]
    }
   ],
   "source": [
    "with open(infile,\"r\") as csv_file:\n",
    "    total_votes = sum(1 for line in csv_file) - 1\n",
    "print(f\"Total votes = {total_votes}\")"
   ]
  },
  {
   "cell_type": "code",
   "execution_count": 4,
   "metadata": {},
   "outputs": [
    {
     "data": {
      "text/plain": [
       "['Khan', 'Correy', 'Li', \"O'Tooley\"]"
      ]
     },
     "execution_count": 4,
     "metadata": {},
     "output_type": "execute_result"
    }
   ],
   "source": [
    "candidates = []\n",
    "\n",
    "with open(infile,\"r\") as csv_file:\n",
    "    reader = csv.reader(csv_file, delimiter=\",\")\n",
    "    next(reader)\n",
    "    for row in reader:\n",
    "        if row[2] not in candidates:\n",
    "            candidates.append(row[2])\n",
    "candidates"
   ]
  },
  {
   "cell_type": "code",
   "execution_count": 5,
   "metadata": {},
   "outputs": [],
   "source": [
    "votes = []\n",
    "\n",
    "with open(infile,\"r\") as csv_file:\n",
    "    reader = csv.reader(csv_file, delimiter=\",\")\n",
    "    next(reader)\n",
    "    for row in reader:\n",
    "        votes.append(row[2])"
   ]
  },
  {
   "cell_type": "code",
   "execution_count": 6,
   "metadata": {},
   "outputs": [
    {
     "data": {
      "text/plain": [
       "'Khan'"
      ]
     },
     "execution_count": 6,
     "metadata": {},
     "output_type": "execute_result"
    }
   ],
   "source": [
    "khan = votes.count(\"Khan\")\n",
    "correy = votes.count(\"Correy\")\n",
    "li = votes.count(\"Li\")\n",
    "otooley = votes.count(\"O'Tooley\")\n",
    "maxvotes = max([khan,correy,li,otooley])\n",
    "if maxvotes == khan:\n",
    "    winner = \"Khan\"\n",
    "if maxvotes == correy:\n",
    "    winner = \"Correy\"\n",
    "if maxvotes == li:\n",
    "    winner = \"Li\"\n",
    "if maxvotes == otooley:\n",
    "    winner = \"O'Tooley\"\n",
    "winner"
   ]
  },
  {
   "cell_type": "code",
   "execution_count": 7,
   "metadata": {},
   "outputs": [],
   "source": [
    "khan_pc = khan/total_votes \n",
    "correy_pc = correy/total_votes\n",
    "li_pc = li/total_votes\n",
    "otooley_pc = otooley/total_votes"
   ]
  },
  {
   "cell_type": "code",
   "execution_count": 8,
   "metadata": {},
   "outputs": [
    {
     "name": "stdout",
     "output_type": "stream",
     "text": [
      "Total number of votes = 3521001\n",
      "Khan received 2,218,231 votes which was 63% of the total\n",
      "Correy received 704,200 votes which was 20% of the total\n",
      "Li received 492,940 votes which was 14% of the total\n",
      "O'Tooley received 105,630 votes which was 3% of the total\n",
      "The winner is Khan.\n"
     ]
    }
   ],
   "source": [
    "print(f\"Total number of votes = {total_votes}\")\n",
    "print(f\"Khan received {khan:,} votes which was {khan_pc*100:.0f}% of the total\")\n",
    "print(f\"Correy received {correy:,} votes which was {correy_pc*100:.0f}% of the total\")\n",
    "print(f\"Li received {li:,} votes which was {li_pc*100:.0f}% of the total\")\n",
    "print(f\"O'Tooley received {otooley:,} votes which was {otooley_pc*100:.0f}% of the total\")\n",
    "print(f\"The winner is {winner}.\")"
   ]
  },
  {
   "cell_type": "code",
   "execution_count": 9,
   "metadata": {},
   "outputs": [],
   "source": [
    "output_path = os.path.join(\"poll_output.txt\")\n",
    "\n",
    "with open(output_path, 'w', newline='') as textfile:\n",
    "    textfile.write(f\"Total number of votes = {total_votes:,}\\n\"\n",
    "                    f\"Khan received {khan:,} votes which was {khan_pc*100:.0f}% of the total\\n\"\n",
    "                    f\"Correy received {correy:,} votes which was {correy_pc*100:.0f}% of the total\\n\"\n",
    "                    f\"Li received {li:,} votes which was {li_pc*100:.0f}% of the total\\n\"\n",
    "                    f\"O'Tooley received {otooley:,} votes which was {otooley_pc*100:.0f}% of the total\\n\"\n",
    "                    f\"The winner is {winner}.\\n\")"
   ]
  },
  {
   "cell_type": "code",
   "execution_count": null,
   "metadata": {},
   "outputs": [],
   "source": []
  }
 ],
 "metadata": {
  "kernelspec": {
   "display_name": "Conda [PythonData]",
   "language": "python",
   "name": "pythondata"
  },
  "language_info": {
   "codemirror_mode": {
    "name": "ipython",
    "version": 3
   },
   "file_extension": ".py",
   "mimetype": "text/x-python",
   "name": "python",
   "nbconvert_exporter": "python",
   "pygments_lexer": "ipython3",
   "version": "3.7.3"
  }
 },
 "nbformat": 4,
 "nbformat_minor": 2
}
